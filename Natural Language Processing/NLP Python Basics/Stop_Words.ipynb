{
 "cells": [
  {
   "cell_type": "code",
   "execution_count": 2,
   "metadata": {},
   "outputs": [],
   "source": [
    "import spacy"
   ]
  },
  {
   "cell_type": "code",
   "execution_count": 3,
   "metadata": {},
   "outputs": [],
   "source": [
    "nlp = spacy.load('en')"
   ]
  },
  {
   "cell_type": "code",
   "execution_count": 4,
   "metadata": {},
   "outputs": [
    {
     "name": "stdout",
     "output_type": "stream",
     "text": [
      "{'whoever', 'thru', 'this', 'out', 'by', 'perhaps', 'me', 'many', 'whereby', 'again', 'must', 'becomes', 'serious', 'whose', 'upon', 'other', 'often', 'anything', 'everything', 'several', 'fifty', 'a', 'empty', 'else', 'there', 'hereupon', 'just', 'nothing', 'who', 'you', 'hereafter', 'she', 'seem', 'wherein', 'did', 'show', 'enough', 'for', 'up', 'part', 'beside', 'whom', 'four', 'besides', 'him', 'our', 'to', 'where', 'yourselves', 'mine', 'once', 'his', 'ourselves', 'towards', 'whereupon', 'full', 'ours', 'hundred', 'cannot', 'its', 'five', 'latter', 'themselves', 'used', 'until', 'after', 'last', 'never', 'over', 'are', 'regarding', 'seeming', 'i', 'whenever', 'really', 'noone', 'does', 'how', 'together', 'therein', 'none', 'on', 'ten', 'between', 'alone', 'were', 'twelve', 'more', 'see', 'and', 'twenty', 'we', 'of', 'been', 'amount', 'whereas', 'please', 'get', 'while', 'most', 'side', 'when', 're', 'back', 'become', 'than', 'everywhere', 'very', 'became', 'bottom', 'an', 'except', 'latterly', 'although', 'move', 'somehow', 'why', 'the', 'always', 'done', 'all', 'namely', 'something', 'herself', 'before', 'then', 'three', 'less', 'same', 'could', 'off', 'former', 'so', 'anywhere', 'throughout', 'few', 'already', 'otherwise', 'down', 'thereby', 'someone', 'do', 'least', 'might', 'due', 'from', 'itself', 'anyway', 'via', 'under', 'nine', 'not', 'nevertheless', 'yourself', 'whence', 'amongst', 'beyond', 'herein', 'two', 'hers', 'somewhere', 'in', 'such', 'within', 'afterwards', 'your', 'third', 'ever', 'if', 'against', 'becoming', 'indeed', 'their', 'above', 'they', 'forty', 'them', 'thus', 'us', 'with', 'be', 'should', 'put', 'keep', 'take', 'without', 'have', 'doing', 'give', 'her', 'nobody', 'say', 'go', 'no', 'into', 'will', 'per', 'nowhere', 'below', 'much', 'another', 'any', 'here', 'about', 'has', 'meanwhile', 'onto', 'whether', 'may', 'among', 'mostly', 'ca', 'six', 'had', 'made', 'sixty', 'toward', 'whither', 'across', 'everyone', 'various', 'whole', 'still', 'along', 'first', 'what', 'can', 'every', 'though', 'he', 'sometime', 'both', 'each', 'thereupon', 'either', 'thereafter', 'yet', 'unless', 'anyone', 'those', 'it', 'seems', 'elsewhere', 'fifteen', 'behind', 'nor', 'these', 'through', 'formerly', 'myself', 'now', 'since', 'rather', 'eight', 'am', 'would', 'because', 'anyhow', 'during', 'hereby', 'beforehand', 'others', 'sometimes', 'whatever', 'some', 'hence', 'next', 'own', 'whereafter', 'yours', 'only', 'as', 'further', 'make', 'himself', 'around', 'therefore', 'also', 'or', 'thence', 'one', 'quite', 'being', 'even', 'name', 'neither', 'seemed', 'that', 'my', 'was', 'top', 'well', 'however', 'wherever', 'almost', 'moreover', 'call', 'at', 'which', 'eleven', 'using', 'too', 'front', 'is', 'but'}\n"
     ]
    }
   ],
   "source": [
    "print(nlp.Defaults.stop_words)"
   ]
  },
  {
   "cell_type": "code",
   "execution_count": 5,
   "metadata": {},
   "outputs": [
    {
     "data": {
      "text/plain": [
       "305"
      ]
     },
     "execution_count": 5,
     "metadata": {},
     "output_type": "execute_result"
    }
   ],
   "source": [
    "len(nlp.Defaults.stop_words)"
   ]
  },
  {
   "cell_type": "code",
   "execution_count": 8,
   "metadata": {},
   "outputs": [
    {
     "data": {
      "text/plain": [
       "True"
      ]
     },
     "execution_count": 8,
     "metadata": {},
     "output_type": "execute_result"
    }
   ],
   "source": [
    "nlp.vocab['is'].is_stop #True if it is a stop word"
   ]
  },
  {
   "cell_type": "code",
   "execution_count": 9,
   "metadata": {},
   "outputs": [],
   "source": [
    "nlp.Defaults.stop_words.add('btw') #Adding stop words to the list"
   ]
  },
  {
   "cell_type": "code",
   "execution_count": 10,
   "metadata": {},
   "outputs": [],
   "source": [
    "nlp.vocab['btw'].is_stop = True #setting btw stop word as true"
   ]
  },
  {
   "cell_type": "code",
   "execution_count": 11,
   "metadata": {},
   "outputs": [
    {
     "data": {
      "text/plain": [
       "True"
      ]
     },
     "execution_count": 11,
     "metadata": {},
     "output_type": "execute_result"
    }
   ],
   "source": [
    "nlp.vocab['btw'].is_stop"
   ]
  },
  {
   "cell_type": "code",
   "execution_count": 13,
   "metadata": {},
   "outputs": [],
   "source": [
    "nlp.Defaults.stop_words.remove('btw') #Remove a stop word"
   ]
  },
  {
   "cell_type": "code",
   "execution_count": 14,
   "metadata": {},
   "outputs": [],
   "source": [
    "nlp.vocab['btw'].is_stop = False #setting btw stop word to False"
   ]
  },
  {
   "cell_type": "code",
   "execution_count": 15,
   "metadata": {},
   "outputs": [
    {
     "data": {
      "text/plain": [
       "False"
      ]
     },
     "execution_count": 15,
     "metadata": {},
     "output_type": "execute_result"
    }
   ],
   "source": [
    "nlp.vocab['btw'].is_stop"
   ]
  },
  {
   "cell_type": "code",
   "execution_count": null,
   "metadata": {},
   "outputs": [],
   "source": []
  }
 ],
 "metadata": {
  "kernelspec": {
   "display_name": "Python 3",
   "language": "python",
   "name": "python3"
  },
  "language_info": {
   "codemirror_mode": {
    "name": "ipython",
    "version": 3
   },
   "file_extension": ".py",
   "mimetype": "text/x-python",
   "name": "python",
   "nbconvert_exporter": "python",
   "pygments_lexer": "ipython3",
   "version": "3.7.7"
  }
 },
 "nbformat": 4,
 "nbformat_minor": 4
}
