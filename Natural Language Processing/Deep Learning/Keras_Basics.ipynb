{
 "cells": [
  {
   "cell_type": "code",
   "execution_count": 1,
   "metadata": {},
   "outputs": [],
   "source": [
    "import numpy as np"
   ]
  },
  {
   "cell_type": "code",
   "execution_count": 2,
   "metadata": {},
   "outputs": [],
   "source": [
    "from sklearn.datasets import load_iris"
   ]
  },
  {
   "cell_type": "code",
   "execution_count": 4,
   "metadata": {},
   "outputs": [],
   "source": [
    "iris = load_iris()"
   ]
  },
  {
   "cell_type": "code",
   "execution_count": 5,
   "metadata": {},
   "outputs": [
    {
     "name": "stdout",
     "output_type": "stream",
     "text": [
      ".. _iris_dataset:\n",
      "\n",
      "Iris plants dataset\n",
      "--------------------\n",
      "\n",
      "**Data Set Characteristics:**\n",
      "\n",
      "    :Number of Instances: 150 (50 in each of three classes)\n",
      "    :Number of Attributes: 4 numeric, predictive attributes and the class\n",
      "    :Attribute Information:\n",
      "        - sepal length in cm\n",
      "        - sepal width in cm\n",
      "        - petal length in cm\n",
      "        - petal width in cm\n",
      "        - class:\n",
      "                - Iris-Setosa\n",
      "                - Iris-Versicolour\n",
      "                - Iris-Virginica\n",
      "                \n",
      "    :Summary Statistics:\n",
      "\n",
      "    ============== ==== ==== ======= ===== ====================\n",
      "                    Min  Max   Mean    SD   Class Correlation\n",
      "    ============== ==== ==== ======= ===== ====================\n",
      "    sepal length:   4.3  7.9   5.84   0.83    0.7826\n",
      "    sepal width:    2.0  4.4   3.05   0.43   -0.4194\n",
      "    petal length:   1.0  6.9   3.76   1.76    0.9490  (high!)\n",
      "    petal width:    0.1  2.5   1.20   0.76    0.9565  (high!)\n",
      "    ============== ==== ==== ======= ===== ====================\n",
      "\n",
      "    :Missing Attribute Values: None\n",
      "    :Class Distribution: 33.3% for each of 3 classes.\n",
      "    :Creator: R.A. Fisher\n",
      "    :Donor: Michael Marshall (MARSHALL%PLU@io.arc.nasa.gov)\n",
      "    :Date: July, 1988\n",
      "\n",
      "The famous Iris database, first used by Sir R.A. Fisher. The dataset is taken\n",
      "from Fisher's paper. Note that it's the same as in R, but not as in the UCI\n",
      "Machine Learning Repository, which has two wrong data points.\n",
      "\n",
      "This is perhaps the best known database to be found in the\n",
      "pattern recognition literature.  Fisher's paper is a classic in the field and\n",
      "is referenced frequently to this day.  (See Duda & Hart, for example.)  The\n",
      "data set contains 3 classes of 50 instances each, where each class refers to a\n",
      "type of iris plant.  One class is linearly separable from the other 2; the\n",
      "latter are NOT linearly separable from each other.\n",
      "\n",
      ".. topic:: References\n",
      "\n",
      "   - Fisher, R.A. \"The use of multiple measurements in taxonomic problems\"\n",
      "     Annual Eugenics, 7, Part II, 179-188 (1936); also in \"Contributions to\n",
      "     Mathematical Statistics\" (John Wiley, NY, 1950).\n",
      "   - Duda, R.O., & Hart, P.E. (1973) Pattern Classification and Scene Analysis.\n",
      "     (Q327.D83) John Wiley & Sons.  ISBN 0-471-22361-1.  See page 218.\n",
      "   - Dasarathy, B.V. (1980) \"Nosing Around the Neighborhood: A New System\n",
      "     Structure and Classification Rule for Recognition in Partially Exposed\n",
      "     Environments\".  IEEE Transactions on Pattern Analysis and Machine\n",
      "     Intelligence, Vol. PAMI-2, No. 1, 67-71.\n",
      "   - Gates, G.W. (1972) \"The Reduced Nearest Neighbor Rule\".  IEEE Transactions\n",
      "     on Information Theory, May 1972, 431-433.\n",
      "   - See also: 1988 MLC Proceedings, 54-64.  Cheeseman et al\"s AUTOCLASS II\n",
      "     conceptual clustering system finds 3 classes in the data.\n",
      "   - Many, many more ...\n"
     ]
    }
   ],
   "source": [
    "print(iris.DESCR)"
   ]
  },
  {
   "cell_type": "code",
   "execution_count": 6,
   "metadata": {},
   "outputs": [],
   "source": [
    "X = iris.data"
   ]
  },
  {
   "cell_type": "code",
   "execution_count": 7,
   "metadata": {},
   "outputs": [],
   "source": [
    "y = iris.target"
   ]
  },
  {
   "cell_type": "code",
   "execution_count": 8,
   "metadata": {},
   "outputs": [],
   "source": [
    "#OneHotEncode the classification numbers\n",
    "from keras.utils import to_categorical"
   ]
  },
  {
   "cell_type": "code",
   "execution_count": 9,
   "metadata": {},
   "outputs": [],
   "source": [
    "y = to_categorical(y)"
   ]
  },
  {
   "cell_type": "code",
   "execution_count": 11,
   "metadata": {},
   "outputs": [
    {
     "data": {
      "text/plain": [
       "(150, 3)"
      ]
     },
     "execution_count": 11,
     "metadata": {},
     "output_type": "execute_result"
    }
   ],
   "source": [
    "y.shape"
   ]
  },
  {
   "cell_type": "code",
   "execution_count": 12,
   "metadata": {},
   "outputs": [
    {
     "data": {
      "text/plain": [
       "array([[1., 0., 0.],\n",
       "       [1., 0., 0.],\n",
       "       [1., 0., 0.],\n",
       "       [1., 0., 0.],\n",
       "       [1., 0., 0.],\n",
       "       [1., 0., 0.],\n",
       "       [1., 0., 0.],\n",
       "       [1., 0., 0.],\n",
       "       [1., 0., 0.],\n",
       "       [1., 0., 0.],\n",
       "       [1., 0., 0.],\n",
       "       [1., 0., 0.],\n",
       "       [1., 0., 0.],\n",
       "       [1., 0., 0.],\n",
       "       [1., 0., 0.],\n",
       "       [1., 0., 0.],\n",
       "       [1., 0., 0.],\n",
       "       [1., 0., 0.],\n",
       "       [1., 0., 0.],\n",
       "       [1., 0., 0.],\n",
       "       [1., 0., 0.],\n",
       "       [1., 0., 0.],\n",
       "       [1., 0., 0.],\n",
       "       [1., 0., 0.],\n",
       "       [1., 0., 0.],\n",
       "       [1., 0., 0.],\n",
       "       [1., 0., 0.],\n",
       "       [1., 0., 0.],\n",
       "       [1., 0., 0.],\n",
       "       [1., 0., 0.],\n",
       "       [1., 0., 0.],\n",
       "       [1., 0., 0.],\n",
       "       [1., 0., 0.],\n",
       "       [1., 0., 0.],\n",
       "       [1., 0., 0.],\n",
       "       [1., 0., 0.],\n",
       "       [1., 0., 0.],\n",
       "       [1., 0., 0.],\n",
       "       [1., 0., 0.],\n",
       "       [1., 0., 0.],\n",
       "       [1., 0., 0.],\n",
       "       [1., 0., 0.],\n",
       "       [1., 0., 0.],\n",
       "       [1., 0., 0.],\n",
       "       [1., 0., 0.],\n",
       "       [1., 0., 0.],\n",
       "       [1., 0., 0.],\n",
       "       [1., 0., 0.],\n",
       "       [1., 0., 0.],\n",
       "       [1., 0., 0.],\n",
       "       [0., 1., 0.],\n",
       "       [0., 1., 0.],\n",
       "       [0., 1., 0.],\n",
       "       [0., 1., 0.],\n",
       "       [0., 1., 0.],\n",
       "       [0., 1., 0.],\n",
       "       [0., 1., 0.],\n",
       "       [0., 1., 0.],\n",
       "       [0., 1., 0.],\n",
       "       [0., 1., 0.],\n",
       "       [0., 1., 0.],\n",
       "       [0., 1., 0.],\n",
       "       [0., 1., 0.],\n",
       "       [0., 1., 0.],\n",
       "       [0., 1., 0.],\n",
       "       [0., 1., 0.],\n",
       "       [0., 1., 0.],\n",
       "       [0., 1., 0.],\n",
       "       [0., 1., 0.],\n",
       "       [0., 1., 0.],\n",
       "       [0., 1., 0.],\n",
       "       [0., 1., 0.],\n",
       "       [0., 1., 0.],\n",
       "       [0., 1., 0.],\n",
       "       [0., 1., 0.],\n",
       "       [0., 1., 0.],\n",
       "       [0., 1., 0.],\n",
       "       [0., 1., 0.],\n",
       "       [0., 1., 0.],\n",
       "       [0., 1., 0.],\n",
       "       [0., 1., 0.],\n",
       "       [0., 1., 0.],\n",
       "       [0., 1., 0.],\n",
       "       [0., 1., 0.],\n",
       "       [0., 1., 0.],\n",
       "       [0., 1., 0.],\n",
       "       [0., 1., 0.],\n",
       "       [0., 1., 0.],\n",
       "       [0., 1., 0.],\n",
       "       [0., 1., 0.],\n",
       "       [0., 1., 0.],\n",
       "       [0., 1., 0.],\n",
       "       [0., 1., 0.],\n",
       "       [0., 1., 0.],\n",
       "       [0., 1., 0.],\n",
       "       [0., 1., 0.],\n",
       "       [0., 1., 0.],\n",
       "       [0., 1., 0.],\n",
       "       [0., 1., 0.],\n",
       "       [0., 1., 0.],\n",
       "       [0., 0., 1.],\n",
       "       [0., 0., 1.],\n",
       "       [0., 0., 1.],\n",
       "       [0., 0., 1.],\n",
       "       [0., 0., 1.],\n",
       "       [0., 0., 1.],\n",
       "       [0., 0., 1.],\n",
       "       [0., 0., 1.],\n",
       "       [0., 0., 1.],\n",
       "       [0., 0., 1.],\n",
       "       [0., 0., 1.],\n",
       "       [0., 0., 1.],\n",
       "       [0., 0., 1.],\n",
       "       [0., 0., 1.],\n",
       "       [0., 0., 1.],\n",
       "       [0., 0., 1.],\n",
       "       [0., 0., 1.],\n",
       "       [0., 0., 1.],\n",
       "       [0., 0., 1.],\n",
       "       [0., 0., 1.],\n",
       "       [0., 0., 1.],\n",
       "       [0., 0., 1.],\n",
       "       [0., 0., 1.],\n",
       "       [0., 0., 1.],\n",
       "       [0., 0., 1.],\n",
       "       [0., 0., 1.],\n",
       "       [0., 0., 1.],\n",
       "       [0., 0., 1.],\n",
       "       [0., 0., 1.],\n",
       "       [0., 0., 1.],\n",
       "       [0., 0., 1.],\n",
       "       [0., 0., 1.],\n",
       "       [0., 0., 1.],\n",
       "       [0., 0., 1.],\n",
       "       [0., 0., 1.],\n",
       "       [0., 0., 1.],\n",
       "       [0., 0., 1.],\n",
       "       [0., 0., 1.],\n",
       "       [0., 0., 1.],\n",
       "       [0., 0., 1.],\n",
       "       [0., 0., 1.],\n",
       "       [0., 0., 1.],\n",
       "       [0., 0., 1.],\n",
       "       [0., 0., 1.],\n",
       "       [0., 0., 1.],\n",
       "       [0., 0., 1.],\n",
       "       [0., 0., 1.],\n",
       "       [0., 0., 1.],\n",
       "       [0., 0., 1.],\n",
       "       [0., 0., 1.]], dtype=float32)"
      ]
     },
     "execution_count": 12,
     "metadata": {},
     "output_type": "execute_result"
    }
   ],
   "source": [
    "y"
   ]
  },
  {
   "cell_type": "code",
   "execution_count": 13,
   "metadata": {},
   "outputs": [],
   "source": [
    "#split train and test\n",
    "from sklearn.model_selection import train_test_split"
   ]
  },
  {
   "cell_type": "code",
   "execution_count": 14,
   "metadata": {},
   "outputs": [],
   "source": [
    "X_train, X_test, y_train, y_test = train_test_split(X, y, test_size=0.33, random_state=42)"
   ]
  },
  {
   "cell_type": "code",
   "execution_count": 16,
   "metadata": {},
   "outputs": [],
   "source": [
    "#Scale values (standardization)\n",
    "from sklearn.preprocessing import MinMaxScaler"
   ]
  },
  {
   "cell_type": "code",
   "execution_count": 17,
   "metadata": {},
   "outputs": [],
   "source": [
    "scaler_object = MinMaxScaler()"
   ]
  },
  {
   "cell_type": "code",
   "execution_count": 18,
   "metadata": {},
   "outputs": [
    {
     "data": {
      "text/plain": [
       "MinMaxScaler(copy=True, feature_range=(0, 1))"
      ]
     },
     "execution_count": 18,
     "metadata": {},
     "output_type": "execute_result"
    }
   ],
   "source": [
    "scaler_object.fit(X_train)"
   ]
  },
  {
   "cell_type": "code",
   "execution_count": 19,
   "metadata": {},
   "outputs": [],
   "source": [
    "scaled_X_train = scaler_object.transform(X_train)"
   ]
  },
  {
   "cell_type": "code",
   "execution_count": 20,
   "metadata": {},
   "outputs": [],
   "source": [
    "scaled_X_test = scaler_object.transform(X_test)"
   ]
  },
  {
   "cell_type": "code",
   "execution_count": 21,
   "metadata": {},
   "outputs": [],
   "source": [
    "#Creating the Neural Network\n",
    "from keras.models import Sequential\n",
    "from keras.layers import Dense"
   ]
  },
  {
   "cell_type": "code",
   "execution_count": 23,
   "metadata": {},
   "outputs": [],
   "source": [
    "model = Sequential()\n",
    "model.add(Dense(8, input_dim=4, activation='relu'))\n",
    "model.add(Dense(8, activation='relu'))\n",
    "model.add(Dense(3, activation='softmax'))\n",
    "model.compile(loss='categorical_crossentropy', optimizer='adam', metrics=['accuracy'])"
   ]
  },
  {
   "cell_type": "code",
   "execution_count": 24,
   "metadata": {},
   "outputs": [
    {
     "name": "stdout",
     "output_type": "stream",
     "text": [
      "Model: \"sequential_2\"\n",
      "_________________________________________________________________\n",
      "Layer (type)                 Output Shape              Param #   \n",
      "=================================================================\n",
      "dense_4 (Dense)              (None, 8)                 40        \n",
      "_________________________________________________________________\n",
      "dense_5 (Dense)              (None, 8)                 72        \n",
      "_________________________________________________________________\n",
      "dense_6 (Dense)              (None, 3)                 27        \n",
      "=================================================================\n",
      "Total params: 139\n",
      "Trainable params: 139\n",
      "Non-trainable params: 0\n",
      "_________________________________________________________________\n"
     ]
    }
   ],
   "source": [
    "model.summary()"
   ]
  },
  {
   "cell_type": "code",
   "execution_count": 27,
   "metadata": {},
   "outputs": [
    {
     "name": "stdout",
     "output_type": "stream",
     "text": [
      "Epoch 1/150\n",
      " - 0s - loss: 0.3322 - accuracy: 0.9400\n",
      "Epoch 2/150\n",
      " - 0s - loss: 0.3294 - accuracy: 0.9300\n",
      "Epoch 3/150\n",
      " - 0s - loss: 0.3279 - accuracy: 0.9400\n",
      "Epoch 4/150\n",
      " - 0s - loss: 0.3262 - accuracy: 0.9400\n",
      "Epoch 5/150\n",
      " - 0s - loss: 0.3247 - accuracy: 0.9400\n",
      "Epoch 6/150\n",
      " - 0s - loss: 0.3236 - accuracy: 0.9200\n",
      "Epoch 7/150\n",
      " - 0s - loss: 0.3228 - accuracy: 0.9200\n",
      "Epoch 8/150\n",
      " - 0s - loss: 0.3205 - accuracy: 0.9200\n",
      "Epoch 9/150\n",
      " - 0s - loss: 0.3184 - accuracy: 0.9400\n",
      "Epoch 10/150\n",
      " - 0s - loss: 0.3161 - accuracy: 0.9400\n",
      "Epoch 11/150\n",
      " - 0s - loss: 0.3142 - accuracy: 0.9400\n",
      "Epoch 12/150\n",
      " - 0s - loss: 0.3130 - accuracy: 0.9400\n",
      "Epoch 13/150\n",
      " - 0s - loss: 0.3117 - accuracy: 0.9400\n",
      "Epoch 14/150\n",
      " - 0s - loss: 0.3098 - accuracy: 0.9400\n",
      "Epoch 15/150\n",
      " - 0s - loss: 0.3083 - accuracy: 0.9400\n",
      "Epoch 16/150\n",
      " - 0s - loss: 0.3068 - accuracy: 0.9400\n",
      "Epoch 17/150\n",
      " - 0s - loss: 0.3053 - accuracy: 0.9400\n",
      "Epoch 18/150\n",
      " - 0s - loss: 0.3048 - accuracy: 0.9400\n",
      "Epoch 19/150\n",
      " - 0s - loss: 0.3047 - accuracy: 0.9400\n",
      "Epoch 20/150\n",
      " - 0s - loss: 0.3027 - accuracy: 0.9400\n",
      "Epoch 21/150\n",
      " - 0s - loss: 0.3001 - accuracy: 0.9300\n",
      "Epoch 22/150\n",
      " - 0s - loss: 0.2974 - accuracy: 0.9400\n",
      "Epoch 23/150\n",
      " - 0s - loss: 0.2972 - accuracy: 0.9300\n",
      "Epoch 24/150\n",
      " - 0s - loss: 0.2969 - accuracy: 0.9200\n",
      "Epoch 25/150\n",
      " - 0s - loss: 0.2955 - accuracy: 0.9300\n",
      "Epoch 26/150\n",
      " - 0s - loss: 0.2934 - accuracy: 0.9200\n",
      "Epoch 27/150\n",
      " - 0s - loss: 0.2912 - accuracy: 0.9200\n",
      "Epoch 28/150\n",
      " - 0s - loss: 0.2890 - accuracy: 0.9400\n",
      "Epoch 29/150\n",
      " - 0s - loss: 0.2877 - accuracy: 0.9400\n",
      "Epoch 30/150\n",
      " - 0s - loss: 0.2871 - accuracy: 0.9400\n",
      "Epoch 31/150\n",
      " - 0s - loss: 0.2858 - accuracy: 0.9400\n",
      "Epoch 32/150\n",
      " - 0s - loss: 0.2847 - accuracy: 0.9400\n",
      "Epoch 33/150\n",
      " - 0s - loss: 0.2826 - accuracy: 0.9400\n",
      "Epoch 34/150\n",
      " - 0s - loss: 0.2803 - accuracy: 0.9400\n",
      "Epoch 35/150\n",
      " - 0s - loss: 0.2797 - accuracy: 0.9500\n",
      "Epoch 36/150\n",
      " - 0s - loss: 0.2780 - accuracy: 0.9400\n",
      "Epoch 37/150\n",
      " - 0s - loss: 0.2769 - accuracy: 0.9500\n",
      "Epoch 38/150\n",
      " - 0s - loss: 0.2751 - accuracy: 0.9400\n",
      "Epoch 39/150\n",
      " - 0s - loss: 0.2736 - accuracy: 0.9400\n",
      "Epoch 40/150\n",
      " - 0s - loss: 0.2719 - accuracy: 0.9500\n",
      "Epoch 41/150\n",
      " - 0s - loss: 0.2708 - accuracy: 0.9400\n",
      "Epoch 42/150\n",
      " - 0s - loss: 0.2713 - accuracy: 0.9200\n",
      "Epoch 43/150\n",
      " - 0s - loss: 0.2706 - accuracy: 0.9300\n",
      "Epoch 44/150\n",
      " - 0s - loss: 0.2685 - accuracy: 0.9200\n",
      "Epoch 45/150\n",
      " - 0s - loss: 0.2667 - accuracy: 0.9200\n",
      "Epoch 46/150\n",
      " - 0s - loss: 0.2649 - accuracy: 0.9200\n",
      "Epoch 47/150\n",
      " - 0s - loss: 0.2636 - accuracy: 0.9200\n",
      "Epoch 48/150\n",
      " - 0s - loss: 0.2617 - accuracy: 0.9400\n",
      "Epoch 49/150\n",
      " - 0s - loss: 0.2615 - accuracy: 0.9400\n",
      "Epoch 50/150\n",
      " - 0s - loss: 0.2601 - accuracy: 0.9400\n",
      "Epoch 51/150\n",
      " - 0s - loss: 0.2590 - accuracy: 0.9400\n",
      "Epoch 52/150\n",
      " - 0s - loss: 0.2575 - accuracy: 0.9400\n",
      "Epoch 53/150\n",
      " - 0s - loss: 0.2569 - accuracy: 0.9400\n",
      "Epoch 54/150\n",
      " - 0s - loss: 0.2556 - accuracy: 0.9400\n",
      "Epoch 55/150\n",
      " - 0s - loss: 0.2544 - accuracy: 0.9400\n",
      "Epoch 56/150\n",
      " - 0s - loss: 0.2528 - accuracy: 0.9400\n",
      "Epoch 57/150\n",
      " - 0s - loss: 0.2522 - accuracy: 0.9400\n",
      "Epoch 58/150\n",
      " - 0s - loss: 0.2513 - accuracy: 0.9400\n",
      "Epoch 59/150\n",
      " - 0s - loss: 0.2493 - accuracy: 0.9400\n",
      "Epoch 60/150\n",
      " - 0s - loss: 0.2482 - accuracy: 0.9500\n",
      "Epoch 61/150\n",
      " - 0s - loss: 0.2470 - accuracy: 0.9400\n",
      "Epoch 62/150\n",
      " - 0s - loss: 0.2450 - accuracy: 0.9300\n",
      "Epoch 63/150\n",
      " - 0s - loss: 0.2447 - accuracy: 0.9200\n",
      "Epoch 64/150\n",
      " - 0s - loss: 0.2443 - accuracy: 0.9300\n",
      "Epoch 65/150\n",
      " - 0s - loss: 0.2437 - accuracy: 0.9400\n",
      "Epoch 66/150\n",
      " - 0s - loss: 0.2427 - accuracy: 0.9400\n",
      "Epoch 67/150\n",
      " - 0s - loss: 0.2413 - accuracy: 0.9300\n",
      "Epoch 68/150\n",
      " - 0s - loss: 0.2390 - accuracy: 0.9200\n",
      "Epoch 69/150\n",
      " - 0s - loss: 0.2384 - accuracy: 0.9400\n",
      "Epoch 70/150\n",
      " - 0s - loss: 0.2366 - accuracy: 0.9400\n",
      "Epoch 71/150\n",
      " - 0s - loss: 0.2361 - accuracy: 0.9500\n",
      "Epoch 72/150\n",
      " - 0s - loss: 0.2344 - accuracy: 0.9500\n",
      "Epoch 73/150\n",
      " - 0s - loss: 0.2333 - accuracy: 0.9400\n",
      "Epoch 74/150\n",
      " - 0s - loss: 0.2325 - accuracy: 0.9300\n",
      "Epoch 75/150\n",
      " - 0s - loss: 0.2334 - accuracy: 0.9400\n",
      "Epoch 76/150\n",
      " - 0s - loss: 0.2309 - accuracy: 0.9400\n",
      "Epoch 77/150\n",
      " - 0s - loss: 0.2289 - accuracy: 0.9400\n",
      "Epoch 78/150\n",
      " - 0s - loss: 0.2287 - accuracy: 0.9500\n",
      "Epoch 79/150\n",
      " - 0s - loss: 0.2298 - accuracy: 0.9400\n",
      "Epoch 80/150\n",
      " - 0s - loss: 0.2293 - accuracy: 0.9400\n",
      "Epoch 81/150\n",
      " - 0s - loss: 0.2276 - accuracy: 0.9400\n",
      "Epoch 82/150\n",
      " - 0s - loss: 0.2254 - accuracy: 0.9400\n",
      "Epoch 83/150\n",
      " - 0s - loss: 0.2238 - accuracy: 0.9500\n",
      "Epoch 84/150\n",
      " - 0s - loss: 0.2221 - accuracy: 0.9500\n",
      "Epoch 85/150\n",
      " - 0s - loss: 0.2210 - accuracy: 0.9500\n",
      "Epoch 86/150\n",
      " - 0s - loss: 0.2198 - accuracy: 0.9400\n",
      "Epoch 87/150\n",
      " - 0s - loss: 0.2204 - accuracy: 0.9300\n",
      "Epoch 88/150\n",
      " - 0s - loss: 0.2206 - accuracy: 0.9400\n",
      "Epoch 89/150\n",
      " - 0s - loss: 0.2206 - accuracy: 0.9400\n",
      "Epoch 90/150\n",
      " - 0s - loss: 0.2187 - accuracy: 0.9400\n",
      "Epoch 91/150\n",
      " - 0s - loss: 0.2161 - accuracy: 0.9400\n",
      "Epoch 92/150\n",
      " - 0s - loss: 0.2145 - accuracy: 0.9400\n",
      "Epoch 93/150\n",
      " - 0s - loss: 0.2139 - accuracy: 0.9500\n",
      "Epoch 94/150\n",
      " - 0s - loss: 0.2134 - accuracy: 0.9400\n",
      "Epoch 95/150\n",
      " - 0s - loss: 0.2124 - accuracy: 0.9400\n",
      "Epoch 96/150\n",
      " - 0s - loss: 0.2116 - accuracy: 0.9300\n",
      "Epoch 97/150\n",
      " - 0s - loss: 0.2106 - accuracy: 0.9300\n",
      "Epoch 98/150\n",
      " - 0s - loss: 0.2094 - accuracy: 0.9400\n",
      "Epoch 99/150\n",
      " - 0s - loss: 0.2090 - accuracy: 0.9300\n",
      "Epoch 100/150\n",
      " - 0s - loss: 0.2079 - accuracy: 0.9300\n",
      "Epoch 101/150\n",
      " - 0s - loss: 0.2068 - accuracy: 0.9300\n",
      "Epoch 102/150\n",
      " - 0s - loss: 0.2061 - accuracy: 0.9300\n",
      "Epoch 103/150\n",
      " - 0s - loss: 0.2045 - accuracy: 0.9500\n",
      "Epoch 104/150\n",
      " - 0s - loss: 0.2041 - accuracy: 0.9400\n",
      "Epoch 105/150\n",
      " - 0s - loss: 0.2032 - accuracy: 0.9400\n",
      "Epoch 106/150\n",
      " - 0s - loss: 0.2020 - accuracy: 0.9400\n",
      "Epoch 107/150\n",
      " - 0s - loss: 0.2017 - accuracy: 0.9500\n",
      "Epoch 108/150\n",
      " - 0s - loss: 0.2009 - accuracy: 0.9300\n",
      "Epoch 109/150\n",
      " - 0s - loss: 0.2017 - accuracy: 0.9400\n",
      "Epoch 110/150\n",
      " - 0s - loss: 0.2001 - accuracy: 0.9400\n",
      "Epoch 111/150\n",
      " - 0s - loss: 0.1986 - accuracy: 0.9300\n",
      "Epoch 112/150\n",
      " - 0s - loss: 0.1971 - accuracy: 0.9500\n",
      "Epoch 113/150\n",
      " - 0s - loss: 0.1978 - accuracy: 0.9400\n",
      "Epoch 114/150\n",
      " - 0s - loss: 0.1965 - accuracy: 0.9500\n",
      "Epoch 115/150\n",
      " - 0s - loss: 0.1961 - accuracy: 0.9500\n",
      "Epoch 116/150\n",
      " - 0s - loss: 0.1955 - accuracy: 0.9500\n",
      "Epoch 117/150\n",
      " - 0s - loss: 0.1944 - accuracy: 0.9500\n",
      "Epoch 118/150\n",
      " - 0s - loss: 0.1929 - accuracy: 0.9400\n",
      "Epoch 119/150\n",
      " - 0s - loss: 0.1923 - accuracy: 0.9400\n",
      "Epoch 120/150\n",
      " - 0s - loss: 0.1911 - accuracy: 0.9500\n",
      "Epoch 121/150\n",
      " - 0s - loss: 0.1904 - accuracy: 0.9400\n",
      "Epoch 122/150\n",
      " - 0s - loss: 0.1899 - accuracy: 0.9400\n",
      "Epoch 123/150\n",
      " - 0s - loss: 0.1894 - accuracy: 0.9300\n",
      "Epoch 124/150\n",
      " - 0s - loss: 0.1913 - accuracy: 0.9400\n",
      "Epoch 125/150\n",
      " - 0s - loss: 0.1898 - accuracy: 0.9400\n",
      "Epoch 126/150\n",
      " - 0s - loss: 0.1878 - accuracy: 0.9400\n",
      "Epoch 127/150\n",
      " - 0s - loss: 0.1862 - accuracy: 0.9400\n",
      "Epoch 128/150\n",
      " - 0s - loss: 0.1843 - accuracy: 0.9500\n",
      "Epoch 129/150\n",
      " - 0s - loss: 0.1855 - accuracy: 0.9600\n",
      "Epoch 130/150\n",
      " - 0s - loss: 0.1865 - accuracy: 0.9600\n",
      "Epoch 131/150\n",
      " - 0s - loss: 0.1859 - accuracy: 0.9600\n",
      "Epoch 132/150\n",
      " - 0s - loss: 0.1842 - accuracy: 0.9600\n",
      "Epoch 133/150\n",
      " - 0s - loss: 0.1823 - accuracy: 0.9500\n",
      "Epoch 134/150\n",
      " - 0s - loss: 0.1810 - accuracy: 0.9500\n",
      "Epoch 135/150\n",
      " - 0s - loss: 0.1808 - accuracy: 0.9500\n",
      "Epoch 136/150\n",
      " - 0s - loss: 0.1805 - accuracy: 0.9300\n",
      "Epoch 137/150\n",
      " - 0s - loss: 0.1799 - accuracy: 0.9300\n",
      "Epoch 138/150\n",
      " - 0s - loss: 0.1792 - accuracy: 0.9300\n",
      "Epoch 139/150\n",
      " - 0s - loss: 0.1782 - accuracy: 0.9400\n",
      "Epoch 140/150\n",
      " - 0s - loss: 0.1770 - accuracy: 0.9500\n",
      "Epoch 141/150\n",
      " - 0s - loss: 0.1765 - accuracy: 0.9500\n",
      "Epoch 142/150\n",
      " - 0s - loss: 0.1764 - accuracy: 0.9500\n",
      "Epoch 143/150\n",
      " - 0s - loss: 0.1749 - accuracy: 0.9500\n",
      "Epoch 144/150\n",
      " - 0s - loss: 0.1758 - accuracy: 0.9300\n",
      "Epoch 145/150\n",
      " - 0s - loss: 0.1779 - accuracy: 0.9400\n",
      "Epoch 146/150\n",
      " - 0s - loss: 0.1764 - accuracy: 0.9400\n",
      "Epoch 147/150\n",
      " - 0s - loss: 0.1733 - accuracy: 0.9400\n",
      "Epoch 148/150\n",
      " - 0s - loss: 0.1719 - accuracy: 0.9500\n",
      "Epoch 149/150\n",
      " - 0s - loss: 0.1721 - accuracy: 0.9600\n",
      "Epoch 150/150\n",
      " - 0s - loss: 0.1720 - accuracy: 0.9700\n"
     ]
    },
    {
     "data": {
      "text/plain": [
       "<keras.callbacks.callbacks.History at 0x21ef95bc9c8>"
      ]
     },
     "execution_count": 27,
     "metadata": {},
     "output_type": "execute_result"
    }
   ],
   "source": [
    "model.fit(scaled_X_train, y_train, epochs=150, verbose=2)"
   ]
  },
  {
   "cell_type": "code",
   "execution_count": 28,
   "metadata": {},
   "outputs": [
    {
     "data": {
      "text/plain": [
       "array([1, 0, 2, 1, 1, 0, 1, 2, 2, 1, 2, 0, 0, 0, 0, 1, 2, 1, 1, 2, 0, 2,\n",
       "       0, 2, 2, 2, 2, 2, 0, 0, 0, 0, 1, 0, 0, 2, 1, 0, 0, 0, 2, 1, 1, 0,\n",
       "       0, 1, 1, 2, 1, 2], dtype=int64)"
      ]
     },
     "execution_count": 28,
     "metadata": {},
     "output_type": "execute_result"
    }
   ],
   "source": [
    "model.predict_classes(scaled_X_test)"
   ]
  },
  {
   "cell_type": "code",
   "execution_count": 29,
   "metadata": {},
   "outputs": [],
   "source": [
    "predictions = model.predict_classes(scaled_X_test)"
   ]
  },
  {
   "cell_type": "code",
   "execution_count": 32,
   "metadata": {},
   "outputs": [],
   "source": [
    "target_results = y_test.argmax(axis=1)"
   ]
  },
  {
   "cell_type": "code",
   "execution_count": 33,
   "metadata": {},
   "outputs": [],
   "source": [
    "from sklearn.metrics import confusion_matrix, classification_report, accuracy_score"
   ]
  },
  {
   "cell_type": "code",
   "execution_count": 35,
   "metadata": {},
   "outputs": [
    {
     "name": "stdout",
     "output_type": "stream",
     "text": [
      "[[19  0  0]\n",
      " [ 0 14  1]\n",
      " [ 0  1 15]]\n"
     ]
    }
   ],
   "source": [
    "print(confusion_matrix(target_results, predictions))"
   ]
  },
  {
   "cell_type": "code",
   "execution_count": 36,
   "metadata": {},
   "outputs": [
    {
     "name": "stdout",
     "output_type": "stream",
     "text": [
      "              precision    recall  f1-score   support\n",
      "\n",
      "           0       1.00      1.00      1.00        19\n",
      "           1       0.93      0.93      0.93        15\n",
      "           2       0.94      0.94      0.94        16\n",
      "\n",
      "   micro avg       0.96      0.96      0.96        50\n",
      "   macro avg       0.96      0.96      0.96        50\n",
      "weighted avg       0.96      0.96      0.96        50\n",
      "\n"
     ]
    }
   ],
   "source": [
    "print(classification_report(target_results, predictions))"
   ]
  },
  {
   "cell_type": "code",
   "execution_count": 37,
   "metadata": {},
   "outputs": [
    {
     "name": "stdout",
     "output_type": "stream",
     "text": [
      "0.96\n"
     ]
    }
   ],
   "source": [
    "print(accuracy_score(target_results, predictions))"
   ]
  },
  {
   "cell_type": "code",
   "execution_count": 38,
   "metadata": {},
   "outputs": [],
   "source": [
    "model.save('myfirstmodel.h5')"
   ]
  },
  {
   "cell_type": "code",
   "execution_count": 39,
   "metadata": {},
   "outputs": [],
   "source": [
    "from keras.models import load_model"
   ]
  },
  {
   "cell_type": "code",
   "execution_count": 40,
   "metadata": {},
   "outputs": [],
   "source": [
    "new_model = load_model('myfirstmodel.h5')"
   ]
  },
  {
   "cell_type": "code",
   "execution_count": 41,
   "metadata": {},
   "outputs": [
    {
     "data": {
      "text/plain": [
       "array([1, 0, 2, 1, 1, 0, 1, 2, 2, 1, 2, 0, 0, 0, 0, 1, 2, 1, 1, 2, 0, 2,\n",
       "       0, 2, 2, 2, 2, 2, 0, 0, 0, 0, 1, 0, 0, 2, 1, 0, 0, 0, 2, 1, 1, 0,\n",
       "       0, 1, 1, 2, 1, 2], dtype=int64)"
      ]
     },
     "execution_count": 41,
     "metadata": {},
     "output_type": "execute_result"
    }
   ],
   "source": [
    "new_model.predict_classes(scaled_X_test)"
   ]
  },
  {
   "cell_type": "code",
   "execution_count": null,
   "metadata": {},
   "outputs": [],
   "source": []
  }
 ],
 "metadata": {
  "kernelspec": {
   "display_name": "Python 3",
   "language": "python",
   "name": "python3"
  },
  "language_info": {
   "codemirror_mode": {
    "name": "ipython",
    "version": 3
   },
   "file_extension": ".py",
   "mimetype": "text/x-python",
   "name": "python",
   "nbconvert_exporter": "python",
   "pygments_lexer": "ipython3",
   "version": "3.7.7"
  }
 },
 "nbformat": 4,
 "nbformat_minor": 4
}
